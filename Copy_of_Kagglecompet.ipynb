{
  "nbformat": 4,
  "nbformat_minor": 0,
  "metadata": {
    "colab": {
      "name": "Copy of Kagglecompet.ipynb",
      "provenance": [],
      "authorship_tag": "ABX9TyOyFxIgoX+tkjc8piQ7EgEc",
      "include_colab_link": true
    },
    "kernelspec": {
      "name": "python3",
      "display_name": "Python 3"
    },
    "language_info": {
      "name": "python"
    }
  },
  "cells": [
    {
      "cell_type": "markdown",
      "metadata": {
        "id": "view-in-github",
        "colab_type": "text"
      },
      "source": [
        "<a href=\"https://colab.research.google.com/github/Rysekk/AppGraphique/blob/master/Copy_of_Kagglecompet.ipynb\" target=\"_parent\"><img src=\"https://colab.research.google.com/assets/colab-badge.svg\" alt=\"Open In Colab\"/></a>"
      ]
    },
    {
      "cell_type": "code",
      "metadata": {
        "id": "65oaVrW6FfF8"
      },
      "source": [
        "! pip install -q kaggle"
      ],
      "execution_count": null,
      "outputs": []
    },
    {
      "cell_type": "code",
      "metadata": {
        "id": "WEPdjR8ZGMxb"
      },
      "source": [
        "from google.colab import files"
      ],
      "execution_count": null,
      "outputs": []
    },
    {
      "cell_type": "code",
      "metadata": {
        "colab": {
          "resources": {
            "http://localhost:8080/nbextensions/google.colab/files.js": {
              "data": "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",
              "ok": true,
              "headers": [
                [
                  "content-type",
                  "application/javascript"
                ]
              ],
              "status": 200,
              "status_text": ""
            }
          },
          "base_uri": "https://localhost:8080/",
          "height": 235
        },
        "id": "Rqr6a7LhGNS3",
        "outputId": "98c44e68-263e-496b-ca2e-af8191f7592d"
      },
      "source": [
        "files.upload()\n"
      ],
      "execution_count": null,
      "outputs": [
        {
          "output_type": "display_data",
          "data": {
            "text/html": [
              "\n",
              "     <input type=\"file\" id=\"files-d6d07983-4ec9-4d6d-9697-94bbbfbaa1a9\" name=\"files[]\" multiple disabled\n",
              "        style=\"border:none\" />\n",
              "     <output id=\"result-d6d07983-4ec9-4d6d-9697-94bbbfbaa1a9\">\n",
              "      Upload widget is only available when the cell has been executed in the\n",
              "      current browser session. Please rerun this cell to enable.\n",
              "      </output>\n",
              "      <script src=\"/nbextensions/google.colab/files.js\"></script> "
            ],
            "text/plain": [
              "<IPython.core.display.HTML object>"
            ]
          },
          "metadata": {
            "tags": []
          }
        },
        {
          "output_type": "stream",
          "text": [
            "Saving kaggle.json to kaggle.json\n"
          ],
          "name": "stdout"
        },
        {
          "output_type": "error",
          "ename": "NameError",
          "evalue": "ignored",
          "traceback": [
            "\u001b[0;31m---------------------------------------------------------------------------\u001b[0m",
            "\u001b[0;31mNameError\u001b[0m                                 Traceback (most recent call last)",
            "\u001b[0;32m<ipython-input-3-4a0db843a170>\u001b[0m in \u001b[0;36m<module>\u001b[0;34m()\u001b[0m\n\u001b[1;32m      1\u001b[0m \u001b[0mfiles\u001b[0m\u001b[0;34m.\u001b[0m\u001b[0mupload\u001b[0m\u001b[0;34m(\u001b[0m\u001b[0;34m)\u001b[0m\u001b[0;34m\u001b[0m\u001b[0;34m\u001b[0m\u001b[0m\n\u001b[0;32m----> 2\u001b[0;31m \u001b[0mµ\u001b[0m\u001b[0;34m\u001b[0m\u001b[0;34m\u001b[0m\u001b[0m\n\u001b[0m",
            "\u001b[0;31mNameError\u001b[0m: name 'μ' is not defined"
          ]
        }
      ]
    },
    {
      "cell_type": "code",
      "metadata": {
        "id": "a8tL4maJGOwO"
      },
      "source": [
        " ! mkdir ~/.kaggle"
      ],
      "execution_count": null,
      "outputs": []
    },
    {
      "cell_type": "code",
      "metadata": {
        "id": "u1T2bVUqGTto"
      },
      "source": [
        "! cp kaggle.json ~/.kaggle/\n"
      ],
      "execution_count": null,
      "outputs": []
    },
    {
      "cell_type": "code",
      "metadata": {
        "id": "w9_KZAQXGXde"
      },
      "source": [
        "! chmod 600 ~/.kaggle/kaggle.json"
      ],
      "execution_count": null,
      "outputs": []
    },
    {
      "cell_type": "code",
      "metadata": {
        "colab": {
          "base_uri": "https://localhost:8080/",
          "height": 129
        },
        "id": "vXdFYGkIGa4Z",
        "outputId": "5fb551a0-c186-4476-d194-3f86fc4894bc"
      },
      "source": [
        "kaggle competitions download -c siim-covid19-detection"
      ],
      "execution_count": null,
      "outputs": [
        {
          "output_type": "error",
          "ename": "SyntaxError",
          "evalue": "ignored",
          "traceback": [
            "\u001b[0;36m  File \u001b[0;32m\"<ipython-input-7-438ca6fc30ae>\"\u001b[0;36m, line \u001b[0;32m1\u001b[0m\n\u001b[0;31m    kaggle competitions download -c siim-covid19-detection\u001b[0m\n\u001b[0m                      ^\u001b[0m\n\u001b[0;31mSyntaxError\u001b[0m\u001b[0;31m:\u001b[0m invalid syntax\n"
          ]
        }
      ]
    },
    {
      "cell_type": "code",
      "metadata": {
        "colab": {
          "base_uri": "https://localhost:8080/"
        },
        "id": "7ZKpeAZBGjFN",
        "outputId": "cca66187-a5ef-4bc9-a6e0-7bfa6dcaa2a5"
      },
      "source": [
        " ! kaggle datasets list"
      ],
      "execution_count": null,
      "outputs": [
        {
          "output_type": "stream",
          "text": [
            "Warning: Looks like you're using an outdated API Version, please consider updating (server 1.5.12 / client 1.5.4)\n",
            "ref                                                           title                                              size  lastUpdated          downloadCount  \n",
            "------------------------------------------------------------  ------------------------------------------------  -----  -------------------  -------------  \n",
            "gpreda/reddit-vaccine-myths                                   Reddit Vaccine Myths                              233KB  2021-07-03 10:55:28           8755  \n",
            "crowww/a-large-scale-fish-dataset                             A Large Scale Fish Dataset                          3GB  2021-04-28 17:03:01           5353  \n",
            "imsparsh/musicnet-dataset                                     MusicNet Dataset                                   22GB  2021-02-18 14:12:19           1898  \n",
            "dhruvildave/wikibooks-dataset                                 Wikibooks Dataset                                   2GB  2021-07-03 18:37:20           2340  \n",
            "promptcloud/careerbuilder-job-listing-2020                    Careerbuilder Job Listing 2020                     42MB  2021-03-05 06:59:52           1238  \n",
            "fatiimaezzahra/famous-iconic-women                            Famous Iconic Women                               838MB  2021-02-28 14:56:00            891  \n",
            "nickuzmenkov/nih-chest-xrays-tfrecords                        NIH Chest X-rays TFRecords                         11GB  2021-03-09 04:49:23            678  \n",
            "coloradokb/dandelionimages                                    DandelionImages                                     4GB  2021-02-19 20:03:47            642  \n",
            "mathurinache/twitter-edge-nodes                               Twitter Edge Nodes                                342MB  2021-03-08 06:43:04            605  \n",
            "simiotic/github-code-snippets                                 GitHub Code Snippets                                7GB  2021-03-03 11:34:39            194  \n",
            "alsgroup/end-als                                              End ALS Kaggle Challenge                           12GB  2021-04-08 12:16:37            750  \n",
            "landrykezebou/lvzhdr-tone-mapping-benchmark-dataset-tmonet    LVZ-HDR Tone Mapping Benchmark Dataset (TMO-Net)   24GB  2021-03-01 05:03:40            141  \n",
            "mathurinache/the-lj-speech-dataset                            The LJ Speech Dataset                               3GB  2021-02-15 09:19:54            219  \n",
            "nickuzmenkov/ranzcr-clip-kfold-tfrecords                      RANZCR CLiP KFold TFRecords                         2GB  2021-02-21 13:29:51             97  \n",
            "imsparsh/accentdb-core-extended                               AccentDB - Core & Extended                          6GB  2021-02-17 14:22:54             88  \n",
            "stuartjames/lights                                            LightS: Light Specularity Dataset                  18GB  2021-02-18 14:32:26             86  \n",
            "jessicali9530/animal-crossing-new-horizons-nookplaza-dataset  Animal Crossing New Horizons Catalog              577KB  2021-06-08 15:05:09           4483  \n",
            "datasnaek/youtube-new                                         Trending YouTube Video Statistics                 201MB  2019-06-03 00:56:47         143860  \n",
            "zynicide/wine-reviews                                         Wine Reviews                                       51MB  2017-11-27 17:08:04         139542  \n",
            "residentmario/ramen-ratings                                   Ramen Ratings                                      40KB  2018-01-11 16:04:39          24589  \n"
          ],
          "name": "stdout"
        }
      ]
    },
    {
      "cell_type": "code",
      "metadata": {
        "colab": {
          "base_uri": "https://localhost:8080/"
        },
        "id": "0zGF3j-EGnG2",
        "outputId": "8f61c61d-4356-489c-8630-8d9ecef590e2"
      },
      "source": [
        "! kaggle competitions download -c siim-covid19-detection"
      ],
      "execution_count": null,
      "outputs": [
        {
          "output_type": "stream",
          "text": [
            "Warning: Looks like you're using an outdated API Version, please consider updating (server 1.5.12 / client 1.5.4)\n",
            "Downloading 65761e66de9f.dcm.zip to /content\n",
            "100% 8.85M/8.85M [00:00<00:00, 16.3MB/s]\n",
            "\n",
            "Downloading 45742200dd51.dcm.zip to /content\n",
            " 54% 5.00M/9.27M [00:00<00:00, 17.9MB/s]\n",
            "100% 9.27M/9.27M [00:00<00:00, 30.2MB/s]\n",
            "Downloading b98508598396.dcm.zip to /content\n",
            " 54% 5.00M/9.21M [00:00<00:00, 25.5MB/s]\n",
            "100% 9.21M/9.21M [00:00<00:00, 36.5MB/s]\n",
            "Downloading 51759b5579bc.dcm.zip to /content\n",
            " 40% 5.00M/12.5M [00:00<00:00, 13.3MB/s]\n",
            "100% 12.5M/12.5M [00:00<00:00, 28.1MB/s]\n",
            "Downloading 3019399c31f4.dcm.zip to /content\n",
            " 78% 9.00M/11.6M [00:00<00:00, 21.8MB/s]\n",
            "100% 11.6M/11.6M [00:00<00:00, 21.5MB/s]\n",
            "Downloading 1df3e98f79be.dcm.zip to /content\n",
            " 83% 5.00M/6.00M [00:00<00:00, 25.5MB/s]\n",
            "100% 6.00M/6.00M [00:00<00:00, 29.3MB/s]\n",
            "Downloading bcd2179fa24e.dcm.zip to /content\n",
            "100% 4.89M/4.89M [00:00<00:00, 33.0MB/s]\n",
            "\n",
            "Downloading bb4b1da810f3.dcm.zip to /content\n",
            " 45% 5.00M/11.2M [00:00<00:00, 18.0MB/s]\n",
            "100% 11.2M/11.2M [00:00<00:00, 36.7MB/s]\n",
            "Downloading 390ce1f029e7.dcm.zip to /content\n",
            " 47% 5.00M/10.6M [00:00<00:00, 16.6MB/s]\n",
            "100% 10.6M/10.6M [00:00<00:00, 30.5MB/s]\n",
            "Downloading ad8d4a5ba8f0.dcm.zip to /content\n",
            " 84% 14.0M/16.7M [00:00<00:00, 27.3MB/s]\n",
            "100% 16.7M/16.7M [00:00<00:00, 47.9MB/s]\n",
            "Downloading 74077a8e3b7c.dcm.zip to /content\n",
            " 55% 5.00M/9.08M [00:00<00:00, 22.8MB/s]\n",
            "100% 9.08M/9.08M [00:00<00:00, 26.1MB/s]\n",
            "Downloading 6534a837497d.dcm.zip to /content\n",
            " 55% 5.00M/9.08M [00:00<00:00, 13.0MB/s]\n",
            "100% 9.08M/9.08M [00:00<00:00, 20.4MB/s]\n",
            "Downloading 136af218f8df.dcm.zip to /content\n",
            " 46% 5.00M/10.8M [00:00<00:00, 15.7MB/s]\n",
            "100% 10.8M/10.8M [00:00<00:00, 30.9MB/s]\n",
            "Downloading 12a2dfb55b6f.dcm.zip to /content\n",
            " 57% 9.00M/15.8M [00:00<00:00, 12.0MB/s]\n",
            "100% 15.8M/15.8M [00:01<00:00, 16.3MB/s]\n",
            "Downloading 09cf9767a7bf.dcm.zip to /content\n",
            " 81% 9.00M/11.1M [00:00<00:00, 26.6MB/s]\n",
            "100% 11.1M/11.1M [00:00<00:00, 28.0MB/s]\n",
            "Downloading 3fadf4b48db3.dcm to /content\n",
            " 51% 9.00M/17.8M [00:00<00:00, 34.2MB/s]\n",
            "100% 17.8M/17.8M [00:00<00:00, 59.2MB/s]\n",
            "Downloading 92552b44c70c.dcm.zip to /content\n",
            " 60% 9.00M/15.0M [00:00<00:00, 21.9MB/s]\n",
            "100% 15.0M/15.0M [00:00<00:00, 30.6MB/s]\n",
            "Downloading f6293b1c49e2.dcm.zip to /content\n",
            " 56% 5.00M/8.97M [00:00<00:00, 25.7MB/s]\n",
            "100% 8.97M/8.97M [00:00<00:00, 35.5MB/s]\n",
            "Downloading 7e7d3afebf5d.dcm.zip to /content\n",
            "  0% 0.00/2.62M [00:00<?, ?B/s]\n",
            "100% 2.62M/2.62M [00:00<00:00, 86.5MB/s]\n",
            "Downloading b81969467c6b.dcm.zip to /content\n",
            " 87% 5.00M/5.73M [00:00<00:00, 26.4MB/s]\n",
            "100% 5.73M/5.73M [00:00<00:00, 28.0MB/s]\n",
            "Downloading bf1f75117093.dcm.zip to /content\n",
            " 67% 5.00M/7.46M [00:00<00:00, 23.7MB/s]\n",
            "100% 7.46M/7.46M [00:00<00:00, 29.6MB/s]\n",
            "Downloading 5af15b21333b.dcm.zip to /content\n",
            " 36% 5.00M/13.8M [00:00<00:00, 15.3MB/s]\n",
            "100% 13.8M/13.8M [00:00<00:00, 34.8MB/s]\n",
            "Downloading af7d1bd1d629.dcm.zip to /content\n",
            " 42% 9.00M/21.3M [00:00<00:01, 12.8MB/s]\n",
            "100% 21.3M/21.3M [00:01<00:00, 21.9MB/s]\n",
            "Downloading e92b08b5a77c.dcm.zip to /content\n",
            " 52% 5.00M/9.55M [00:00<00:00, 26.3MB/s]\n",
            "100% 9.55M/9.55M [00:00<00:00, 37.8MB/s]\n",
            "Downloading cea591e99b8a.dcm.zip to /content\n",
            " 61% 5.00M/8.20M [00:00<00:00, 8.38MB/s]\n",
            "100% 8.20M/8.20M [00:00<00:00, 12.9MB/s]\n",
            "Downloading 3dcdfc352a06.dcm.zip to /content\n",
            " 45% 5.00M/11.2M [00:00<00:00, 19.5MB/s]\n",
            "100% 11.2M/11.2M [00:00<00:00, 32.0MB/s]\n",
            "Downloading 51635cbfbe18.dcm.zip to /content\n",
            " 43% 5.00M/11.6M [00:00<00:00, 35.1MB/s]\n",
            "100% 11.6M/11.6M [00:00<00:00, 46.1MB/s]\n",
            "Downloading 6c42a41a6c6e.dcm.zip to /content\n",
            " 52% 9.00M/17.3M [00:00<00:00, 21.5MB/s]\n",
            "100% 17.3M/17.3M [00:00<00:00, 35.0MB/s]\n",
            "Downloading 695e2c6dede4.dcm.zip to /content\n",
            " 76% 5.00M/6.55M [00:00<00:00, 21.0MB/s]\n",
            "100% 6.55M/6.55M [00:00<00:00, 26.0MB/s]\n",
            "Downloading ad98af65ad2a.dcm.zip to /content\n",
            " 57% 9.00M/15.8M [00:00<00:00, 25.4MB/s]\n",
            "100% 15.8M/15.8M [00:00<00:00, 39.0MB/s]\n",
            "Downloading 951211f8e1bb.dcm.zip to /content\n",
            " 98% 5.00M/5.10M [00:00<00:00, 27.1MB/s]\n",
            "100% 5.10M/5.10M [00:00<00:00, 24.9MB/s]\n",
            "Downloading ced40f593496.dcm.zip to /content\n",
            " 67% 9.00M/13.5M [00:00<00:00, 16.5MB/s]\n",
            "100% 13.5M/13.5M [00:00<00:00, 21.2MB/s]\n",
            "Downloading 53b4af5b74d7.dcm.zip to /content\n",
            " 41% 5.00M/12.1M [00:00<00:00, 14.6MB/s]\n",
            "100% 12.1M/12.1M [00:00<00:00, 30.5MB/s]\n",
            "Downloading 5e0e7acd9c7d.dcm.zip to /content\n",
            " 43% 5.00M/11.5M [00:00<00:00, 24.3MB/s]\n",
            "100% 11.5M/11.5M [00:00<00:00, 38.0MB/s]\n",
            "Downloading f6ba3df9a8be.dcm.zip to /content\n",
            " 41% 9.00M/21.9M [00:00<00:00, 29.1MB/s]\n",
            "100% 21.9M/21.9M [00:00<00:00, 55.4MB/s]\n",
            "Downloading c39146cbda47.dcm.zip to /content\n",
            " 61% 9.00M/14.8M [00:00<00:00, 25.0MB/s]\n",
            "100% 14.8M/14.8M [00:00<00:00, 33.4MB/s]\n",
            "Downloading fec0249d70e4.dcm to /content\n",
            " 65% 5.00M/7.72M [00:00<00:00, 14.3MB/s]\n",
            "100% 7.72M/7.72M [00:00<00:00, 19.5MB/s]\n",
            "Downloading 0cccb1eca1fc.dcm.zip to /content\n",
            "  0% 0.00/2.22M [00:00<?, ?B/s]\n",
            "100% 2.22M/2.22M [00:00<00:00, 148MB/s]\n",
            "Downloading dbae9b9b9500.dcm.zip to /content\n",
            "  0% 0.00/930k [00:00<?, ?B/s]\n",
            "100% 930k/930k [00:00<00:00, 144MB/s]\n",
            "Downloading 26fa9834387e.dcm.zip to /content\n",
            " 63% 5.00M/7.88M [00:00<00:00, 25.0MB/s]\n",
            "100% 7.88M/7.88M [00:00<00:00, 31.2MB/s]\n",
            "Downloading 5b8ee5baa1d5.dcm.zip to /content\n",
            "100% 5.00M/5.00M [00:00<00:00, 9.97MB/s]\n",
            "100% 5.00M/5.00M [00:00<00:00, 9.26MB/s]\n",
            "Downloading train_study_level.csv to /content\n",
            "  0% 0.00/160k [00:00<?, ?B/s]\n",
            "100% 160k/160k [00:00<00:00, 144MB/s]\n",
            "Downloading sample_submission.csv to /content\n",
            "  0% 0.00/87.0k [00:00<?, ?B/s]\n",
            "100% 87.0k/87.0k [00:00<00:00, 90.3MB/s]\n",
            "Downloading train_image_level.csv.zip to /content\n",
            "  0% 0.00/443k [00:00<?, ?B/s]\n",
            "100% 443k/443k [00:00<00:00, 134MB/s]\n"
          ],
          "name": "stdout"
        }
      ]
    },
    {
      "cell_type": "code",
      "metadata": {
        "id": "j8ZOj2RRGwB_"
      },
      "source": [
        "! mkdir train"
      ],
      "execution_count": null,
      "outputs": []
    },
    {
      "cell_type": "code",
      "metadata": {
        "colab": {
          "base_uri": "https://localhost:8080/"
        },
        "id": "rI66IfkaHMjs",
        "outputId": "cd7c8ad2-826c-4e90-c300-7eed0c9e0f98"
      },
      "source": [
        "! unzip train_study_level.csv.zip -d train"
      ],
      "execution_count": null,
      "outputs": [
        {
          "output_type": "stream",
          "text": [
            "unzip:  cannot find or open train_study_level.csv.zip, train_study_level.csv.zip.zip or train_study_level.csv.zip.ZIP.\n"
          ],
          "name": "stdout"
        }
      ]
    },
    {
      "cell_type": "code",
      "metadata": {
        "id": "fCsJAgtpHR7E"
      },
      "source": [
        ""
      ],
      "execution_count": null,
      "outputs": []
    }
  ]
}